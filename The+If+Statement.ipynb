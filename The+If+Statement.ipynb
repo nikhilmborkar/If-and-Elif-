{
 "cells": [
  {
   "cell_type": "code",
   "execution_count": 1,
   "metadata": {
    "collapsed": true
   },
   "outputs": [],
   "source": [
    "import numpy as np\n",
    "from numpy.random import randn"
   ]
  },
  {
   "cell_type": "code",
   "execution_count": 11,
   "metadata": {},
   "outputs": [
    {
     "data": {
      "text/plain": [
       "0.013505706110595584"
      ]
     },
     "execution_count": 11,
     "metadata": {},
     "output_type": "execute_result"
    }
   ],
   "source": [
    "randn() #Generates random numbers between -2 and 2. Follows a normal distribution"
   ]
  },
  {
   "cell_type": "code",
   "execution_count": 17,
   "metadata": {},
   "outputs": [
    {
     "name": "stdout",
     "output_type": "stream",
     "text": [
      "2.06738242888\n",
      "Greater than 1\n"
     ]
    }
   ],
   "source": [
    "x = randn()\n",
    "if x >1:\n",
    "    answer = \"Greater than 1\"\n",
    "print x\n",
    "print answer #This would show a name error for the print answer statement \n",
    "#until the random number generates a number greater than 1"
   ]
  },
  {
   "cell_type": "code",
   "execution_count": 19,
   "metadata": {},
   "outputs": [
    {
     "name": "stdout",
     "output_type": "stream",
     "text": [
      "-1.22232768042\n",
      "Less than 1\n"
     ]
    }
   ],
   "source": [
    "x = randn()\n",
    "if x >1:\n",
    "    answer = \"Greater than 1\"\n",
    "else:\n",
    "    answer = \"Less than 1\" #As we introduced an else statement, every random number less than one is printed so\n",
    "print x\n",
    "print answer "
   ]
  },
  {
   "cell_type": "code",
   "execution_count": 29,
   "metadata": {},
   "outputs": [
    {
     "name": "stdout",
     "output_type": "stream",
     "text": [
      "-0.989190477787\n",
      "Between 1 and -1\n"
     ]
    }
   ],
   "source": [
    "answer = None \n",
    "x = randn()\n",
    "if x >1:\n",
    "    answer = \"Greater than 1\"\n",
    "else:\n",
    "    if x > -1:\n",
    "        answer = \"Between 1 and -1\"\n",
    "    else:\n",
    "        answer = \"Less than -1\" \n",
    "print x\n",
    "print answer "
   ]
  },
  {
   "cell_type": "markdown",
   "metadata": {},
   "source": [
    "# The ELIF statement"
   ]
  },
  {
   "cell_type": "code",
   "execution_count": 38,
   "metadata": {},
   "outputs": [
    {
     "name": "stdout",
     "output_type": "stream",
     "text": [
      "-0.762894285181\n",
      "Between 1 and -1\n"
     ]
    }
   ],
   "source": [
    "answer = None \n",
    "x = randn()\n",
    "if x >1:\n",
    "    answer = \"Greater than 1\"\n",
    "elif x > -1:\n",
    "    answer = \"Between 1 and -1\"\n",
    "else:\n",
    "    answer = \"Less than -1\" \n",
    "print x\n",
    "print answer "
   ]
  }
 ],
 "metadata": {
  "kernelspec": {
   "display_name": "Python 2",
   "language": "python",
   "name": "python2"
  },
  "language_info": {
   "codemirror_mode": {
    "name": "ipython",
    "version": 2
   },
   "file_extension": ".py",
   "mimetype": "text/x-python",
   "name": "python",
   "nbconvert_exporter": "python",
   "pygments_lexer": "ipython2",
   "version": "2.7.13"
  }
 },
 "nbformat": 4,
 "nbformat_minor": 2
}
